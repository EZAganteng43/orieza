{
 "cells": [
  {
   "cell_type": "code",
   "execution_count": 8,
   "id": "b3a21ec9",
   "metadata": {},
   "outputs": [
    {
     "name": "stdout",
     "output_type": "stream",
     "text": [
      "Nama : Dedi\n",
      "Umur : 20\n",
      "Alamat : Jl.Cibolang\n",
      "Nilai pemerograman : (80, 5)\n",
      "Status pernikahan : False\n"
     ]
    }
   ],
   "source": [
    "nama = \"Dedi\"\n",
    "age = 20\n",
    "address,province = \"Jl.Cibolang\",\"7413412\"\n",
    "scorePhyton = 80,5\n",
    "isMarried = False\n",
    "\n",
    "print(\"Nama :\",nama)\n",
    "print(\"Umur :\",age)\n",
    "print(\"Alamat :\",address)\n",
    "print(\"Nilai pemerograman :\",scorePhyton)\n",
    "print(\"Status pernikahan :\",isMarried)\n",
    "\n",
    "\n"
   ]
  },
  {
   "cell_type": "code",
   "execution_count": 9,
   "id": "34422733",
   "metadata": {},
   "outputs": [
    {
     "name": "stdout",
     "output_type": "stream",
     "text": [
      "Tipe Data <nama> <class 'str'>\n",
      "Tipe Data <age> <class 'int'>\n",
      "Tipe Data <address> <class 'str'>\n",
      "Tipe Data <province> <class 'str'>\n",
      "Tipe Data <scorePhyton> <class 'tuple'>\n",
      "Tipe Data <isMarried> <class 'bool'>\n"
     ]
    }
   ],
   "source": [
    "print(\"Tipe Data <nama>\",type(nama))\n",
    "print(\"Tipe Data <age>\",type(age))\n",
    "print(\"Tipe Data <address>\",type(address))\n",
    "print(\"Tipe Data <province>\",type(province))\n",
    "print(\"Tipe Data <scorePhyton>\",type(scorePhyton))\n",
    "print(\"Tipe Data <isMarried>\",type(isMarried))"
   ]
  },
  {
   "cell_type": "code",
   "execution_count": 22,
   "id": "c44eb0c2",
   "metadata": {},
   "outputs": [
    {
     "name": "stdout",
     "output_type": "stream",
     "text": [
      "7413412_7413412.0_True\n",
      "20_20.0_True\n",
      "20_20_True\n",
      "20_20.0_True\n"
     ]
    }
   ],
   "source": [
    "#Casting atau konversi Tipe Data\n",
    "#Konversi dari String ke(int,floot,bool)\n",
    "strToInt = int(province)\n",
    "strToFloat = float(province)\n",
    "strToBool = bool(province)\n",
    "print(strToInt,strToFloat,strToBool,sep=\"_\")\n",
    "#konversi dari int ke (str,float,bool)\n",
    "intToStr = str(age)\n",
    "intToFloat = float(age)\n",
    "intToBool = bool(age)\n",
    "print(intToStr,intToFloat,intToBool,sep=\"_\")\n",
    "#konversi dari float ke (str,int,bool)\n",
    "floatToStr = str(age)\n",
    "floatToInt = int(age)\n",
    "floatToBool = bool(age)\n",
    "print(floatToStr,floatToInt,intToBool,sep=\"_\")\n",
    "##konversi dari bool ke (str,float,int)\n",
    "boolToStr = str(age)\n",
    "boolToFloat = float(age)\n",
    "boolToInt = bool(age)\n",
    "print(boolToStr,boolToFloat,boolToInt,sep=\"_\")\n"
   ]
  },
  {
   "cell_type": "code",
   "execution_count": 26,
   "id": "a82babac",
   "metadata": {},
   "outputs": [
    {
     "name": "stdout",
     "output_type": "stream",
     "text": [
      "M\n",
      "r\n"
     ]
    }
   ],
   "source": [
    "city = \"Makassar\"\n",
    "lenCity = len(city)\n",
    "print(city[0])\n",
    "print(city[lenCity-1])"
   ]
  },
  {
   "cell_type": "code",
   "execution_count": 21,
   "id": "e25f0562",
   "metadata": {},
   "outputs": [
    {
     "name": "stdout",
     "output_type": "stream",
     "text": [
      "Nilai Desimal : 200\n",
      "Nilai Desimal dari 0xff: 255\n",
      "Nilai Desimal dari 0b1010: 10\n",
      "Nilai Desimal dari 0o377: 255\n",
      "============-======================\n",
      "Nilai Biner dari : 200 0b11001000\n",
      "Nilai Octal dari : 200 0o310\n",
      "Nilai Hexa dari : 200 0xc8\n"
     ]
    }
   ],
   "source": [
    "desimal = 200\n",
    "hexa = 0xff\n",
    "biner = 0b1010\n",
    "octal = 0o377\n",
    "print(\"Nilai Desimal :\",desimal)\n",
    "print(\"Nilai Desimal dari 0xff:\",hexa)\n",
    "print(\"Nilai Desimal dari 0b1010:\",biner)\n",
    "print(\"Nilai Desimal dari 0o377:\",octal)\n",
    "print(\"============-======================\")\n",
    "print(\"Nilai Biner dari :\",desimal,bin(desimal))\n",
    "print(\"Nilai Octal dari :\",desimal,oct(desimal))\n",
    "print(\"Nilai Hexa dari :\",desimal,hex(desimal))"
   ]
  },
  {
   "cell_type": "code",
   "execution_count": 59,
   "id": "dbe2d662",
   "metadata": {},
   "outputs": [
    {
     "ename": "IndentationError",
     "evalue": "unindent does not match any outer indentation level (<tokenize>, line 34)",
     "output_type": "error",
     "traceback": [
      "\u001b[1;36m  File \u001b[1;32m<tokenize>:34\u001b[1;36m\u001b[0m\n\u001b[1;33m    }\u001b[0m\n\u001b[1;37m    ^\u001b[0m\n\u001b[1;31mIndentationError\u001b[0m\u001b[1;31m:\u001b[0m unindent does not match any outer indentation level\n"
     ]
    }
   ],
   "source": [
    "#Tipe data Collection\n",
    "cities = (\"Sukabumi\",\"Jakarta\",\"Barcelona\",\"HamaMadrid\")\n",
    "print(cities)\n",
    "print(cities[0])\n",
    "print(cities[len(cities)-1])\n",
    "print(cities)\n",
    "print(cities[len(cities)-1][0])\n",
    "\n",
    "#Tuple \n",
    "names = (\"Andi\",\"Budi\",\"Caca\")\n",
    "print(names)\n",
    "#names[0]=\"Andi\" akan menyebabkan error' karena tuple adalah immutable\n",
    "\n",
    "studentData = {\n",
    "    \"name\" : \"Andi\",\n",
    "    \"address\" : {\n",
    "        \"street\" : \"Barcelona\",\n",
    "        \"number\" : 12,\n",
    "        \"province\" : \"Catalunya\"\n",
    "    },\n",
    "    \"hobies\":[\"Basket\",\"Football\"], \n",
    "    \"age\" : 12,\n",
    "    \"isMarried\" : True\n",
    "}    \n",
    "    \"name\" : \"Budi\",\n",
    "    \"address\" : {\n",
    "        \"street\" : \"Jampang\",\n",
    "        \"number\" : 25,\n",
    "        \"province\" : \"Leweng\"\n",
    "    },\n",
    "    \"hobies\":[\"Badminton\",\"Football\"], \n",
    "    \"age\" : 21,\n",
    "    \"isMarried\" : False\n",
    "}\n",
    "print(studentData)\n",
    "print(studentData[\"address\"][\"province\"]) #Catalunya\n",
    "print(studentData[1])#Semua data dari andi\n",
    "print(studentData[0][\"hobies\"][1])\n",
    "print(studentData[0][\"age\"]) #21 -Umur Budi"
   ]
  },
  {
   "cell_type": "code",
   "execution_count": 66,
   "id": "670f84cc",
   "metadata": {},
   "outputs": [
    {
     "name": "stdout",
     "output_type": "stream",
     "text": [
      "{'name': 'Dika', 'nilai': 80}\n",
      "{'Buah': 'Nanas muda', 'Harga': 10000}\n",
      "{'Club': 'Man united', 'Harga': 'Gratis karna bapuk'}\n"
     ]
    }
   ],
   "source": [
    "#Casting dictionary\n",
    "\n",
    "list_tuple= [(\"name\",\"Dika\"),(\"nilai\",80)]\n",
    "dictStudent = dict(list_tuple)\n",
    "print(dictStudent)\n",
    "\n",
    "list_list = [(\"Buah\",\"Nanas muda\"),(\"Harga\",10000)]\n",
    "dictBuah = dict(list_list)\n",
    "print(dictBuah)\n",
    "\n",
    "tuple_tuple = ...\n",
    "tuple_list = ...\n",
    "\n",
    "tuple_tuple= [(\"Club\",\"Man united\"),(\"Harga\",\"Gratis karna bapuk\")]\n",
    "dictClub = dict(tuple_tuple)\n",
    "print(dictClub)\n",
    "\n",
    "tuple_tuple= ...\n",
    "tuple_list= ..."
   ]
  },
  {
   "cell_type": "code",
   "execution_count": null,
   "id": "f85e26ff",
   "metadata": {},
   "outputs": [],
   "source": []
  },
  {
   "cell_type": "code",
   "execution_count": null,
   "id": "ef9585b6",
   "metadata": {},
   "outputs": [],
   "source": []
  }
 ],
 "metadata": {
  "kernelspec": {
   "display_name": "Python 3 (ipykernel)",
   "language": "python",
   "name": "python3"
  },
  "language_info": {
   "codemirror_mode": {
    "name": "ipython",
    "version": 3
   },
   "file_extension": ".py",
   "mimetype": "text/x-python",
   "name": "python",
   "nbconvert_exporter": "python",
   "pygments_lexer": "ipython3",
   "version": "3.9.12"
  }
 },
 "nbformat": 4,
 "nbformat_minor": 5
}
