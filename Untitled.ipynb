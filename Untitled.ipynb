{
 "cells": [
  {
   "cell_type": "code",
   "execution_count": 2,
   "id": "ddaf05a5-6633-4e65-9bd8-b751fb12d530",
   "metadata": {},
   "outputs": [
    {
     "name": "stdin",
     "output_type": "stream",
     "text": [
      "Masukan Umur : 18\n",
      "Masukan Umur : 17\n",
      "Masukan Umur : 53\n"
     ]
    },
    {
     "name": "stdout",
     "output_type": "stream",
     "text": [
      "Tiket 3 : 25000\n",
      "Tiket 2 : 15000\n",
      "Tiket 3 : 25000\n",
      "Jadi total adalah:65000\n"
     ]
    }
   ],
   "source": [
    "tiket1 = int(input(\"Masukan Umur :\"))\n",
    "tiket2 = int(input(\"Masukan Umur :\"))\n",
    "tiket3 = int(input(\"Masukan Umur :\"))\n",
    "totalBiaya = 0\n",
    "if tiket1 >= 1:\n",
    "    if tiket1 <=13:\n",
    "        print(\"Tiket 1 : 10000\")\n",
    "        totalBiaya = totalBiaya + 10000\n",
    "    elif tiket1<=17:\n",
    "        print(\"Tiket 2 : 15000\")\n",
    "        totalBiaya = totalBiaya + 15000\n",
    "    elif tiket1 <=59:\n",
    "        print(\"Tiket 3 : 25000\")\n",
    "        totalBiaya = totalBiaya + 25000\n",
    "    else :\n",
    "        print(\"Tiket 1  : Gratis\")\n",
    "        totalBiaya = totalBiaya + 0\n",
    "\n",
    "else:\n",
    "    print(\"Umur Tidak Valid\")\n",
    "    \n",
    "if tiket2 >= 1:\n",
    "    if tiket2 <=13:\n",
    "        print(\"Tiket 1 : 10000\")\n",
    "        totalBiaya = totalBiaya + 10000\n",
    "    elif tiket2 <=17:\n",
    "        print(\"Tiket 2 : 15000\")\n",
    "        totalBiaya = totalBiaya + 15000\n",
    "    elif tiket2 <=59:\n",
    "        print(\"Tiket 3 : 25000\")\n",
    "        totalBiaya = totalBiaya + 25000\n",
    "    else :\n",
    "        print(\"Tiket 1  : Gratis\")\n",
    "        totalBiaya = totalBiaya + 0\n",
    "\n",
    "else:\n",
    "    print(\"Umur Tidak Valid\")\n",
    "\n",
    "    \n",
    "if tiket3 >= 1:\n",
    "    if tiket3 <=13:\n",
    "        print(\"Tiket 1 : 10000\")\n",
    "        totalBiaya = totalBiaya + 10000\n",
    "    elif tiket3 <=17:\n",
    "        print(\"Tiket 2 : 15000\")\n",
    "        totalBiaya = totalBiaya + 15000\n",
    "    elif tiket3 <=59:\n",
    "        print(\"Tiket 3 : 25000\")\n",
    "        totalBiaya = totalBiaya + 25000\n",
    "    else :\n",
    "        print(\"Tiket 1  : Gratis\")\n",
    "        totalBiaya = totalBiaya + 0\n",
    "\n",
    "else:\n",
    "    print(\"Umur Tidak Valid\")\n",
    "print(f\"Jadi total adalah:{totalBiaya}\")"
   ]
  },
  {
   "cell_type": "code",
   "execution_count": 8,
   "id": "b3ab8c03-6e18-4923-a7f4-ec6a6b127633",
   "metadata": {},
   "outputs": [
    {
     "name": "stdin",
     "output_type": "stream",
     "text": [
      "Masukan motor/mobil:  motor\n",
      "Jam Masuk:  10\n",
      "Jam Keluar:  13\n"
     ]
    },
    {
     "name": "stdout",
     "output_type": "stream",
     "text": [
      "Tarif motor: 2000\n",
      "Lama Parkir: 3 jam\n",
      "Total Tarif Parkir: 6000\n"
     ]
    }
   ],
   "source": [
    "jenisKendaraan = input(\"Masukan motor/mobil: \")\n",
    "jamMasuk = int(input(\"Jam Masuk: \"))\n",
    "jamKeluar = int(input(\"Jam Keluar: \"))\n",
    "\n",
    "tarifPerjam = 0\n",
    "if jenisKendaraan == \"motor\":\n",
    "    tarifPerjam = 2000\n",
    "elif jenisKendaraan == \"mobil\":\n",
    "    tarifPerjam = 5000\n",
    "else:\n",
    "    print(\"Tidak menerima selain mobil atau motor\")\n",
    "\n",
    "if jamMasuk >= jamKeluar:\n",
    "    print(\"Input Jam Masuk/Jam Keluar Salah!\")\n",
    "else:\n",
    "    totalTarif = (jamKeluar - jamMasuk)*tarifPerjam\n",
    "\n",
    "print(f\"Tarif {jenisKendaraan}: {tarifPerjam}\")\n",
    "print(f\"Lama Parkir: {jamKeluar-jamMasuk} jam\")\n",
    "print(f\"Total Tarif Parkir: {totalTarif}\")\n"
   ]
  },
  {
   "cell_type": "code",
   "execution_count": 14,
   "id": "821ba239-1159-4d53-85a9-d4937dc23103",
   "metadata": {},
   "outputs": [
    {
     "name": "stdin",
     "output_type": "stream",
     "text": [
      "Masukan nilai rapor:  100\n",
      "Masukan penghasilan ortu:  4000000\n"
     ]
    },
    {
     "name": "stdout",
     "output_type": "stream",
     "text": [
      "Mendapatkan beasiswa penuh\n"
     ]
    }
   ],
   "source": [
    "nilaiRapor = int(input(\"Masukan nilai rapor: \"))\n",
    "penghasilan = int(input(\"Masukan penghasilan ortu: \"))\n",
    "\n",
    "if nilaiRapor >= 90 and penghasilan < 5_000_000:\n",
    "    print(\"Mendapatkan beasiswa penuh\")\n",
    "elif nilaiRapor >= 85 and penghasilan < 8_000_000:\n",
    "    print(\"Mendapatkan beasiswa 50%\")\n",
    "else:\n",
    "    print(\"Tidak mendapatkan beasiswa\")"
   ]
  },
  {
   "cell_type": "code",
   "execution_count": 18,
   "id": "a8d3ed9d-0606-46b0-a612-ff2930a1495e",
   "metadata": {},
   "outputs": [
    {
     "name": "stdin",
     "output_type": "stream",
     "text": [
      "Masukkan nilai coding (0-100):  80\n",
      "Masukkan nilai interview (A/B/C/dll):  b\n"
     ]
    },
    {
     "name": "stdout",
     "output_type": "stream",
     "text": [
      "Selamat Kamu Berhasil Menjadi Calon Programmer\n"
     ]
    }
   ],
   "source": [
    "nilaiCoding = int(input(\"Masukkan nilai coding (0-100): \"))\n",
    "nilaiInterview = input(\"Masukkan nilai interview (A/B/C/dll): \").upper()\n",
    "\n",
    "if nilaiCoding > 80:\n",
    "    hasilCoding = \"LOLOS\"\n",
    "elif 60 <= nilaiCoding <= 80:\n",
    "    hasilCoding = \"DIPERTIMBANGKAN\"\n",
    "else:\n",
    "    hasilCoding = \"GAGAL\"\n",
    "\n",
    "if nilaiInterview == \"A\" or nilaiInterview == \"B\":\n",
    "    hasilInterview = \"LOLOS\"\n",
    "else:\n",
    "    hasilInterview = \"GAGAL\"\n",
    "\n",
    "if (hasilCoding == \"LOLOS\" or hasilCoding == \"DIPERTIMBANGKAN\") and hasilInterview == \"LOLOS\":\n",
    "    print(\"Selamat Kamu Berhasil Menjadi Calon Programmer\")\n",
    "else:\n",
    "    print(\"Maaf Kamu Belum Berhasil Menjadi Calon Programmer\")\n",
    "\n"
   ]
  },
  {
   "cell_type": "code",
   "execution_count": 20,
   "id": "56f54c64-86b9-4d22-b198-9324b13027a2",
   "metadata": {},
   "outputs": [
    {
     "name": "stdin",
     "output_type": "stream",
     "text": [
      "Nomor Punggung:  10\n"
     ]
    },
    {
     "name": "stdout",
     "output_type": "stream",
     "text": [
      "Kamu mempunyai pilihan posisi: Target Attacker, \n"
     ]
    }
   ],
   "source": [
    "nomorPunggung = int(input(\"Nomor Punggung: \"))\n",
    "posisi = \"\"\n",
    "if nomorPunggung % 2 == 0:\n",
    "    posisi += \"Target Attacker, \"\n",
    "    if nomorPunggung >= 50 and nomorPunggung <= 100:\n",
    "        posisi += \"Berhak dipilih menjadi Captain, \"\n",
    "else:\n",
    "    posisi += \"Defender, \"\n",
    "    if nomorPunggung > 90:\n",
    "        posisi += \"Playmaker\"\n",
    "    if nomorPunggung % 3 == 0 and nomorPunggung % 5 == 0:\n",
    "        posisi += \"Keeper\"\n",
    "print(f\"Kamu mempunyai pilihan posisi: {posisi}\")"
   ]
  },
  {
   "cell_type": "code",
   "execution_count": null,
   "id": "42ccd21f-cf98-4da7-ae8b-b47aff437520",
   "metadata": {},
   "outputs": [],
   "source": []
  }
 ],
 "metadata": {
  "kernelspec": {
   "display_name": "Python [conda env:base] *",
   "language": "python",
   "name": "conda-base-py"
  },
  "language_info": {
   "codemirror_mode": {
    "name": "ipython",
    "version": 3
   },
   "file_extension": ".py",
   "mimetype": "text/x-python",
   "name": "python",
   "nbconvert_exporter": "python",
   "pygments_lexer": "ipython3",
   "version": "3.12.7"
  }
 },
 "nbformat": 4,
 "nbformat_minor": 5
}
