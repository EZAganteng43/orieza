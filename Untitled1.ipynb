{
 "cells": [
  {
   "cell_type": "code",
   "execution_count": 2,
   "id": "8e0af0cf-f713-45e9-a1c8-c66b89e0e21b",
   "metadata": {},
   "outputs": [
    {
     "name": "stdin",
     "output_type": "stream",
     "text": [
      "Isikan Nama Lengkap : Orieza zeta eramsnyah\n",
      "Isikan Tempat Tanggal Lahir : 07 mei 2004\n",
      "Isikan Jenis Kelamin : laki laki\n",
      "Isikan Alamat : jl.pondokkaso tonggoh\n",
      "Isikan No Telepon : 085722521792\n",
      "Isikan Email : oriezakasep@gmail.com\n",
      "Isikan Status : belum menikah\n"
     ]
    },
    {
     "name": "stdout",
     "output_type": "stream",
     "text": [
      "\n",
      " --- Biodata Diri ---\n",
      "Nama Lengkap : Orieza zeta eramsnyah\n",
      "Tempat Tanggal Lahir : 07 mei 2004\n",
      "Jenis Kelamin : laki laki.\n",
      "Alamat : jl.pondokkaso tonggoh\n",
      "No Telepon : 085722521792\n",
      "Email : oriezakasep@gmail.com\n",
      "Status : belum menikah\n"
     ]
    }
   ],
   "source": [
    "namaL = input(\"Isikan Nama Lengkap :\")\n",
    "TTL = input(\"Isikan Tempat Tanggal Lahir :\")\n",
    "jk = input(\"Isikan Jenis Kelamin :\")\n",
    "alamat = input(\"Isikan Alamat :\")\n",
    "notel = input(\"Isikan No Telepon :\")\n",
    "email = input(\"Isikan Email :\")\n",
    "status = input(\"Isikan Status :\")\n",
    "\n",
    "print(\"\\n --- Biodata Diri ---\")\n",
    "print(\"Nama Lengkap : {}\".format(namaL))\n",
    "print(\"Tempat Tanggal Lahir : {}\".format(TTL))\n",
    "print(\"Jenis Kelamin : {}.\".format(jk))\n",
    "print(\"Alamat : {}\".format(alamat))\n",
    "print(\"No Telepon : {}\".format(notel))\n",
    "print(\"Email : {}\".format(email))\n",
    "print(\"Status : {}\".format(status))\n"
   ]
  },
  {
   "cell_type": "code",
   "execution_count": 16,
   "id": "1b2a38d4-fc55-486f-a882-8271fcd8d82a",
   "metadata": {},
   "outputs": [
    {
     "name": "stdin",
     "output_type": "stream",
     "text": [
      "Masukan kalimat : UNIVERSITAS NUSA PUTRA SUKABUMI\n"
     ]
    },
    {
     "name": "stdout",
     "output_type": "stream",
     "text": [
      "\n",
      " a.PUTRA NUSA\n",
      "\n",
      " b.NIVERSITAS NSA PTRA SKABMI\n",
      "\n",
      " c.SUKABUMI PUTRA NUSA UNIVERSITAS\n",
      "\n",
      " d.UNPS\n",
      "\n",
      " e.TAS SAPU BUMI\n"
     ]
    }
   ],
   "source": [
    "kalimat = input(\"Masukan kalimat :\")\n",
    "#a. putra nusa\n",
    "print(\"\\n a.\", end = '')\n",
    "print(kalimat [17:22], end = ' ')#PUTRA\n",
    "print(kalimat [12:16])#NUSA\n",
    "#b. NIVERSITAS NSA PTRA SKABMI\n",
    "print(\"\\n b.\", end = '')\n",
    "print(kalimat [1:11], end = ' ')#NIVERSITAS\n",
    "print(kalimat [12], end = '')#N\n",
    "print(kalimat [14:16], end = ' ')#SA\n",
    "print(kalimat [17], end = '')#P\n",
    "print(kalimat [19:-9], end = ' ')#TRA\n",
    "print(kalimat [23], end = '')#S\n",
    "print(kalimat [25:28], end = '')#KAB\n",
    "print(kalimat [29:])#MI\n",
    "#c. SUKABUMI PUTRA NUSA UNIVERSITAS\n",
    "print(\"\\n c.\", end = '')\n",
    "print(kalimat [23:], end = ' ')#SUKABUMI\n",
    "print(kalimat [17:22], end = ' ')#PUTRA\n",
    "print(kalimat [12:16], end = ' ')#NUSA\n",
    "print(kalimat [0:11])#UNIVERSITAS\n",
    "#d. UNPS\n",
    "print(\"\\n d.\", end = '')\n",
    "print(kalimat [0], end = '')#U\n",
    "print(kalimat [12], end = '')#N\n",
    "print(kalimat [17], end = '')#P\n",
    "print(kalimat [23])#S\n",
    "print(\"\\n e.\", end = '')\n",
    "print(kalimat [8:11], end = ' ')#TAS\n",
    "print(kalimat [14:16], end = '')#SA\n",
    "print(kalimat [17:19], end = ' ')#PU\n",
    "print(kalimat [27:])#BUMI"
   ]
  },
  {
   "cell_type": "code",
   "execution_count": null,
   "id": "86ae1160-0fa8-47a2-847f-41f128f03c31",
   "metadata": {},
   "outputs": [],
   "source": []
  }
 ],
 "metadata": {
  "kernelspec": {
   "display_name": "Python [conda env:base] *",
   "language": "python",
   "name": "conda-base-py"
  },
  "language_info": {
   "codemirror_mode": {
    "name": "ipython",
    "version": 3
   },
   "file_extension": ".py",
   "mimetype": "text/x-python",
   "name": "python",
   "nbconvert_exporter": "python",
   "pygments_lexer": "ipython3",
   "version": "3.12.7"
  }
 },
 "nbformat": 4,
 "nbformat_minor": 5
}
