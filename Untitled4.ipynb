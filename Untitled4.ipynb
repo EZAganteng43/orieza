{
 "cells": [
  {
   "cell_type": "code",
   "execution_count": 2,
   "id": "6d3f1fed-274a-4527-9bfc-ed33f341b4e2",
   "metadata": {},
   "outputs": [
    {
     "name": "stdin",
     "output_type": "stream",
     "text": [
      "Isikan Usia Anda 17\n"
     ]
    },
    {
     "name": "stdout",
     "output_type": "stream",
     "text": [
      "Usia Anda masuk dalam kategori : Remaja\n"
     ]
    }
   ],
   "source": [
    "usia = int(input(\"Isikan Usia Anda\"))\n",
    "\n",
    "if 0 <=  usia <= 12:\n",
    "    kategori = \"Anak Anak\"\n",
    "elif 13 <= usia <= 17:\n",
    "    kategori = \"Remaja\"\n",
    "elif 18 <= usia <= 59:\n",
    "    kategori = \"Dewasa\"\n",
    "elif usia >= 60:\n",
    "    kategori = \"Lansia\"\n",
    "else:\n",
    "    kategori = \"Usia Tidak Valid\"\n",
    "\n",
    "print(f\"Usia Anda masuk dalam kategori :\",kategori)"
   ]
  },
  {
   "cell_type": "code",
   "execution_count": 4,
   "id": "cda044cf-895e-4cd2-b3d3-e18c9684f2bd",
   "metadata": {},
   "outputs": [
    {
     "name": "stdin",
     "output_type": "stream",
     "text": [
      "Isikan Umur Tiket 1: 20\n",
      "Isikan Umur Tiket 2:  17\n",
      "Isikan Umur Tiket 3:  34\n"
     ]
    },
    {
     "name": "stdout",
     "output_type": "stream",
     "text": [
      "Total Harga yang harus dibayar:  65000\n"
     ]
    }
   ],
   "source": [
    "tiket1 = int(input(\"Isikan Umur Tiket 1:\"))\n",
    "tiket2 = int(input(\"Isikan Umur Tiket 2: \"))\n",
    "tiket3 = int(input(\"Isikan Umur Tiket 3: \"))\n",
    "\n",
    "def hargaTiket (usia):\n",
    "    if 0 <= usia <= 12:\n",
    "        return 10000\n",
    "    elif 13 <= usia <= 17:\n",
    "        return 15000\n",
    "    elif 18 <= usia <= 59:\n",
    "        return 25000\n",
    "    elif usia >= 60:\n",
    "        return 0\n",
    "    else:\n",
    "        \"Usia Tidak Valid\"\n",
    "\n",
    "totalHarga = (hargaTiket(tiket1) + hargaTiket(tiket2) + hargaTiket(tiket3))\n",
    "\n",
    "print(f\"Total Harga yang harus dibayar: \",totalHarga)"
   ]
  },
  {
   "cell_type": "code",
   "execution_count": 6,
   "id": "43bd55fe-36c8-4bbd-964d-5710e7088d15",
   "metadata": {},
   "outputs": [
    {
     "name": "stdin",
     "output_type": "stream",
     "text": [
      "Masukan Usia Anda:  13\n",
      "Masukan Harga:  10000\n"
     ]
    },
    {
     "name": "stdout",
     "output_type": "stream",
     "text": [
      "Maaf anda belum mendapatkan diskon\n",
      "Harga yang harus dibayar : Rp.10000.0\n"
     ]
    }
   ],
   "source": [
    "# usia = int(input(\"Masukan Usia Anda: \"))\n",
    "harga = int(input(\"Masukan Harga: \"))\n",
    "\n",
    "if 0 <= usia <= 12:\n",
    "    diskon = 50\n",
    "    print(\"Diskon :\",diskon,\"%\")\n",
    "elif usia >= 60:\n",
    "    diskon = 30\n",
    "    print(\"Diskon :\",diskon,\"%\")\n",
    "else:\n",
    "    diskon = 0\n",
    "    \"Tidak Ada Diskon\"\n",
    "    print(f\"Maaf anda belum mendapatkan diskon\")\n",
    "\n",
    "hargaDiskon = harga - (harga * diskon/100)\n",
    "\n",
    "print(f\"Harga yang harus dibayar : Rp.{hargaDiskon}\")\n",
    "\n"
   ]
  },
  {
   "cell_type": "code",
   "execution_count": 8,
   "id": "11995c4f-c23e-4c2c-b2d6-a7ff9047cf47",
   "metadata": {},
   "outputs": [
    {
     "name": "stdin",
     "output_type": "stream",
     "text": [
      "Isikan Nilai Rapor : 90\n",
      "Isikan Penghasilan Orang Tua : 300000\n"
     ]
    },
    {
     "name": "stdout",
     "output_type": "stream",
     "text": [
      "Selamat Anda mendapatkan Beasiswa Penuh.\n"
     ]
    }
   ],
   "source": [
    "nilai = int(input(\"Isikan Nilai Rapor :\"))\n",
    "penghasilan = int(input(\"Isikan Penghasilan Orang Tua :\"))\n",
    "\n",
    "if nilai >= 90 and penghasilan < 5000000:\n",
    "    print(\"Selamat Anda mendapatkan Beasiswa Penuh.\")\n",
    "elif nilai >= 85 and penghasilan < 8000000:\n",
    "    print(\"Selamat Anda mendapatkan Beasiswa 50%.\")\n",
    "else:\n",
    "    print(\"Tidak mendapatkan Beasiswa.\")"
   ]
  },
  {
   "cell_type": "code",
   "execution_count": 26,
   "id": "6a7c33e9-448e-4511-868d-2c72ffe36337",
   "metadata": {},
   "outputs": [
    {
     "name": "stdin",
     "output_type": "stream",
     "text": [
      "Masukan Umur Penonton : 18\n",
      "Masukan Kategori Film (Semua Umur/Remaja/Dewasa) : semua umur\n"
     ]
    },
    {
     "name": "stdout",
     "output_type": "stream",
     "text": [
      "Anda Tidak boleh Menonton Film ini.\n"
     ]
    }
   ],
   "source": [
    "umur = int(input(\"Masukan Umur Penonton :\"))\n",
    "kategoriFilm = input(\"Masukan Kategori Film (Semua Umur/Remaja/Dewasa) :\")\n",
    "\n",
    "if kategoriFilm == \"Semua Umur\":\n",
    "    print(\"Anda boleh Menonton\") \n",
    "elif kategoriFilm == \"Remaja\" and umur >= 13:\n",
    "    print(\"Anda boleh Menonton\")\n",
    "elif kategoriFilm == \"Dewasa\" and umur >= 19:\n",
    "    print(\"Anda boleh Menonton\")\n",
    "else:\n",
    "    print(\"Anda Tidak boleh Menonton Film ini.\")"
   ]
  },
  {
   "cell_type": "code",
   "execution_count": 28,
   "id": "82ea19ba-58bf-44fe-af34-d9f8f3cf78d8",
   "metadata": {},
   "outputs": [
    {
     "name": "stdin",
     "output_type": "stream",
     "text": [
      "Isikan Total belanja : 500000\n"
     ]
    },
    {
     "name": "stdout",
     "output_type": "stream",
     "text": [
      "Diskon : 20 %\n",
      "total Belanja setelah diskon :400000.0\n"
     ]
    }
   ],
   "source": [
    "total = int(input(\"Isikan Total belanja :\"))\n",
    "\n",
    "if total >= 500000:\n",
    "    diskon = 20\n",
    "    print(\"Diskon :\", diskon,\"%\")\n",
    "elif total >= 250000:\n",
    "    diskon = 10\n",
    "    print(\"Diskon :\", diskon,\"%\")\n",
    "else:\n",
    "    diskon = 0\n",
    "    print(\"Tidak Ada Diskon\")\n",
    "\n",
    "hargaAkhir = total - (total * diskon/100)\n",
    "print(f\"total Belanja setelah diskon :{hargaAkhir}\")"
   ]
  },
  {
   "cell_type": "code",
   "execution_count": 36,
   "id": "b803faa0-3c5c-4261-b886-2558c7add08e",
   "metadata": {},
   "outputs": [
    {
     "name": "stdin",
     "output_type": "stream",
     "text": [
      "Masukan jenis kendaraan : Motor\n",
      "Masukan durasi Parkir : 4\n"
     ]
    },
    {
     "name": "stdout",
     "output_type": "stream",
     "text": [
      "Total biaya parkir : Rp. 8000\n"
     ]
    }
   ],
   "source": [
    "kendaraan = input(\"Masukan jenis kendaraan :\")\n",
    "durasi = int(input(\"Masukan durasi Parkir :\"))\n",
    "\n",
    "if kendaraan == \"Mobil\":\n",
    "    tarif = 5000 \n",
    "elif kendaraan == \"Motor\":\n",
    "    tarif = 2000 \n",
    "else:\n",
    "    print(\"Tidak ada kendaraan seperti itu\")\n",
    "\n",
    "total = tarif * durasi\n",
    "\n",
    "if durasi > 5:\n",
    "    total += 10000\n",
    "\n",
    "print(f\"Total biaya parkir : Rp. {total}\")"
   ]
  },
  {
   "cell_type": "code",
   "execution_count": 38,
   "id": "e0cf08c7-ae64-4287-ad87-85d5edbf4d5f",
   "metadata": {},
   "outputs": [
    {
     "name": "stdin",
     "output_type": "stream",
     "text": [
      "Masukan Jarak perjalanan (km) : 1\n"
     ]
    },
    {
     "name": "stdout",
     "output_type": "stream",
     "text": [
      "total Tarif Perjalanan untuk 1km : Rp.5000\n"
     ]
    }
   ],
   "source": [
    "jarak = int(input(\"Masukan Jarak perjalanan (km) :\"))\n",
    "\n",
    "if jarak <= 5:\n",
    "    tarif = jarak * 5000\n",
    "elif 6 <= jarak <= 10:\n",
    "    tarif = jarak * 4000\n",
    "else:\n",
    "    tarif = jarak * 3000\n",
    "\n",
    "total = jarak and tarif\n",
    "\n",
    "print(f\"total Tarif Perjalanan untuk {jarak}km : Rp.{total}\")"
   ]
  },
  {
   "cell_type": "code",
   "execution_count": 42,
   "id": "a3e64333-dbfa-4caf-89f9-7602a3967b06",
   "metadata": {},
   "outputs": [
    {
     "name": "stdin",
     "output_type": "stream",
     "text": [
      "Masukan nilai coding : 90\n",
      "Masukan Nilai Interview (A/B/C/D):  A\n"
     ]
    },
    {
     "name": "stdout",
     "output_type": "stream",
     "text": [
      "Selamat Kamu Berhasil Menjadi Calon Programmer\n"
     ]
    }
   ],
   "source": [
    "nilai1 = int(input(\"Masukan nilai coding :\"))\n",
    "nilai2 = input(\"Masukan Nilai Interview (A/B/C/D): \")\n",
    "\n",
    "if nilai1 > 80:\n",
    "    hasil1 = \"LOLOS\"\n",
    "elif 60 <= nilai1 <= 80:\n",
    "    hasil1 = \"Dipertimbangkan\"\n",
    "else:\n",
    "    hasil1 = \"GAGAL\"\n",
    "\n",
    "if nilai2 in [\"A\", \"B\"]:\n",
    "    hasil2 = \"LOLOS\"\n",
    "else:\n",
    "    hasil2 = \"GAGAL\"\n",
    "\n",
    "if (hasil1 in [\"LOLOS\", \"DIPERTIMBANGKAN\"]) and hasil2 == \"LOLOS\":\n",
    "    print(\"Selamat Kamu Berhasil Menjadi Calon Programmer\")\n",
    "else:\n",
    "    print(\"Maaf Kamu Belum Berhasil Menjadi Calon Programmer\")"
   ]
  },
  {
   "cell_type": "code",
   "execution_count": 52,
   "id": "379f5a10-9b72-4355-bdc4-da822d8ba5f2",
   "metadata": {},
   "outputs": [
    {
     "name": "stdin",
     "output_type": "stream",
     "text": [
      "Masukan No Punggung Pemain : 8\n"
     ]
    },
    {
     "name": "stdout",
     "output_type": "stream",
     "text": [
      "Nomor Punggung 8 Dapat Berfungsi Sebagai :\n",
      "Attacker\n"
     ]
    }
   ],
   "source": [
    "nomorP = int(input(\"Masukan No Punggung Pemain :\"))\n",
    "posisi = \"\" \n",
    "\n",
    "if nomorP % 2 == 0:\n",
    "    posisi += \"Attacker\"\n",
    "    if 50 <= nomorP <= 100:\n",
    "        posisi += \" Berhak Dipilih Menjadi Captain Team\"\n",
    "else:\n",
    "    posisi += \"Defender\"\n",
    "    if nomorP > 90:\n",
    "        posisi += \"Playmaker\"\n",
    "    if nomorP % 3 == 0 and nomorP % 5 == 0:\n",
    "        posisi += \"Keeper\"\n",
    "    else:\n",
    "        posisi = \"Tidak memiliki Posisi\"\n",
    "\n",
    "hasil = posisi\n",
    "\n",
    "print(\"Nomor Punggung\",nomorP, \"Dapat Berfungsi Sebagai :\")\n",
    "print(hasil)"
   ]
  },
  {
   "cell_type": "code",
   "execution_count": null,
   "id": "918862a0-c913-4a4b-a8c0-f39b7a6b9d8d",
   "metadata": {},
   "outputs": [],
   "source": []
  }
 ],
 "metadata": {
  "kernelspec": {
   "display_name": "Python [conda env:base] *",
   "language": "python",
   "name": "conda-base-py"
  },
  "language_info": {
   "codemirror_mode": {
    "name": "ipython",
    "version": 3
   },
   "file_extension": ".py",
   "mimetype": "text/x-python",
   "name": "python",
   "nbconvert_exporter": "python",
   "pygments_lexer": "ipython3",
   "version": "3.12.7"
  }
 },
 "nbformat": 4,
 "nbformat_minor": 5
}
