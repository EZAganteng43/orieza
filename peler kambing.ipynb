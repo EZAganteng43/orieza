{
 "cells": [
  {
   "cell_type": "code",
   "execution_count": 6,
   "id": "6bfb13b5",
   "metadata": {},
   "outputs": [
    {
     "name": "stdout",
     "output_type": "stream",
     "text": [
      "Isikan Nama Anda risa\n",
      "Selamat Datang risa\n",
      "123Risa@Bagaz@Intan\n"
     ]
    }
   ],
   "source": [
    "name = input(\"Isikan Nama Anda \")\n",
    "print(\"Selamat Datang\",name)#menggabungkan variable dengan string\n",
    "\n",
    "print(\"1\",end='')#mencetak disamping karakter\n",
    "print(\"2\",end='')\n",
    "print(\"3\",end='')\n",
    "\n",
    "#separator\n",
    "print(\"Risa\",\"Bagaz\",\"Intan\",sep=\"@\")"
   ]
  },
  {
   "cell_type": "code",
   "execution_count": 10,
   "id": "7b2afe9c",
   "metadata": {},
   "outputs": [
    {
     "name": "stdout",
     "output_type": "stream",
     "text": [
      "Isikan Bilangan 1:02\n",
      "Isikan Bilangan 2:23\n",
      "hasil penjumblahan  2 + 23 = 25\n",
      "Hasil Penjumblahan {} + {} = {} 25\n"
     ]
    }
   ],
   "source": [
    "val1= int(input(\"Isikan Bilangan 1:\"))\n",
    "val2 = int(input(\"Isikan Bilangan 2:\"))\n",
    "\n",
    "#hasil penjumblahan 3 + 4 =7\n",
    "print(\"hasil penjumblahan \" ,val1,\"+\",val2, \"=\",val1+val2)\n",
    "#String format menggunakan tanda()\n",
    "print(\"Hasil Penjumblahan {} + {} = {}\",format(val1+val2))"
   ]
  },
  {
   "cell_type": "markdown",
   "id": "e7e72917",
   "metadata": {},
   "source": [
    "<h1>String format index</h1>"
   ]
  },
  {
   "cell_type": "code",
   "execution_count": 66,
   "id": "fd19ed5a",
   "metadata": {},
   "outputs": [
    {
     "name": "stdout",
     "output_type": "stream",
     "text": [
      "Isikan Nama Depan:orieza\n",
      "Isikan Nama Tengah:ganteng\n",
      "Isikan Nama Balakang:kalem\n",
      "Nama Anda : orieza ganteng kalem\n",
      "Nama Anda : ganteng orieza kalem\n",
      "Nama Anda orieza ganteng kalem\n"
     ]
    }
   ],
   "source": [
    "fNama = input(\"Isikan Nama Depan:\")\n",
    "mNama = input(\"Isikan Nama Tengah:\")\n",
    "lNama = input(\"Isikan Nama Balakang:\")\n",
    "print(\"Nama Anda : {} {} {}\".format(fNama,mNama,lNama))\n",
    "#menggunakan index\n",
    "print(\"Nama Anda : {1} {0} {2}\".format(fNama,mNama,lNama))\n",
    "#menggunakan key\n",
    "print(\"Nama Anda {depan} {tengah} {belakang}\".format (belakang = lNama,depan = fNama, tengah =mNama ))"
   ]
  },
  {
   "cell_type": "code",
   "execution_count": 64,
   "id": "0bc15e2e",
   "metadata": {},
   "outputs": [
    {
     "name": "stdout",
     "output_type": "stream",
     "text": [
      "Isikan nama kampus anda: nusput\n",
      "n\n",
      "nuspu\n",
      "t\n",
      "usput\n"
     ]
    }
   ],
   "source": [
    "univercity = input(\"Isikan nama kampus anda: \")\n",
    "#mencetak karakter pertama\n",
    "print(univercity[0])\n",
    "#mencetak karakter pertama sampai ke 5\n",
    "print(univercity[0:5])\n",
    "#mencetak karakter paling akhir\n",
    "print(univercity[-1])\n",
    "#mencetak karakter ke 2 sampai selesai\n",
    "print(univercity[1:])"
   ]
  },
  {
   "cell_type": "code",
   "execution_count": 26,
   "id": "24737f9a",
   "metadata": {},
   "outputs": [
    {
     "name": "stdout",
     "output_type": "stream",
     "text": [
      "Isikan nama lengkap :orieza zeta ermansyah\n",
      "Nama Depan orieza\n",
      "Nama Tengah zeta\n",
      "Nama Belakang ermansyah\n",
      "Nama adalah : {fullName}\n",
      "5\n"
     ]
    }
   ],
   "source": [
    "fullName = input (\"Isikan nama lengkap :\")\n",
    "#split untuk memisahkan string berdasarkan karakter tertentu\n",
    "name = fullName.split(' ')\n",
    "print(\"Nama Depan\",name[0])\n",
    "print(\"Nama Tengah\",name[1])\n",
    "print(\"Nama Belakang\",name[2])\n",
    "\n",
    "#print fstring\n",
    "print(\"Nama adalah : {fullName}\")#string digunakan\n",
    "\n",
    "#find untuk mencari karakter dalam string\n",
    "#jika ditemukan akan mengembalikan posisi index\n",
    "#jika tidak ditemukan mengambilkan nilai -1\n",
    "platMobil = \"N7864BB\"\n",
    "print(platMobil.find(\"B\"))"
   ]
  },
  {
   "cell_type": "code",
   "execution_count": 32,
   "id": "98410ac2",
   "metadata": {},
   "outputs": [
    {
     "name": "stdout",
     "output_type": "stream",
     "text": [
      "Masukan email anda : oki.com\n",
      "posisi '@' : -1\n",
      "posisi '.' : 3\n",
      "Tidak Valid\n"
     ]
    }
   ],
   "source": [
    "email =input(\"Masukan email anda : \")\n",
    "cek1 = email.find(\"@\")\n",
    "cek2 = email.find(\".\")\n",
    "print(\"posisi '@' :\", cek1)\n",
    "print(\"posisi '.' :\",cek2)\n",
    "cekValid = \"Email Valid\" if cek1 > -1 and cek2 > -1 and cek1 < cek2 else \"Tidak Valid\"\n",
    "print(cekValid)\n"
   ]
  },
  {
   "cell_type": "markdown",
   "id": "ff10813e",
   "metadata": {},
   "source": [
    "<h1>Random</h1>"
   ]
  },
  {
   "cell_type": "code",
   "execution_count": 63,
   "id": "dddd95b8",
   "metadata": {},
   "outputs": [
    {
     "name": "stdout",
     "output_type": "stream",
     "text": [
      "Hasil Acak adalah 0.20752754081519253\n",
      "Nilai Dari Nilai acak bulat adalah 58\n",
      "hasil dari acak bulan adalah jun\n",
      "hasil dari acak hari adalah ['fri,5']\n",
      "berapakah 3 * 3:\n",
      "Isikan hasilnya9\n",
      "Salah\n",
      "Anda Benar !!!\n"
     ]
    }
   ],
   "source": [
    "from random import random\n",
    "nilai = random()\n",
    "print(f\"Hasil Acak adalah {nilai}\")\n",
    "\n",
    "from random import randint\n",
    "nilaiInt = randint(0,100)\n",
    "print(f\"Nilai Dari Nilai acak bulat adalah {nilaiInt}\")\n",
    "\n",
    "from random import choice \n",
    "sMonth = [\"jan\",\"feb\",\"maret\",\"april\",\"mei\",\"jun\",\"jul\",\"aug\",\"sep\",\"oct\",\"nov\",\"des\"]\n",
    "sDay = ([\"Mon\",1],[\"Tue\",2],[\"wed\",3],[\"thu\",4],[\"fri,5\"],[\"sat\",6],[\"sun\",7])\n",
    "\n",
    "sMonth = choice(sMonth)\n",
    "sDay = choice(sDay)\n",
    "select = choice(sMonth)\n",
    "print(f\"hasil dari acak bulan adalah {sMonth}\")\n",
    "print(f\"hasil dari acak hari adalah {sDay}\")\n",
    "\n",
    "nilai1 = randint(0,100)\n",
    "nilai2 = randint(0,100)\n",
    "operator = [\"+\",\"-\",\"*\",\"/\"]\n",
    "sOperator = choice(operator)\n",
    "print(f\"berapakah {nilai1} {sOperator} {nilai2}:\")\n",
    "jawab = int(input(\"Isikan hasilnya\"))\n",
    "cekJawab = \"Benar\" if jawab == nilai1 + nilai2 else \"Salah\"\n",
    "print(cekJawab)\n",
    "\n",
    "#IF ELSE\n",
    "if sOperator == \"+\":\n",
    "    cekJawab = \"Anda Benar !!!\" if jawab == nilai1 + nilai2 else \"Anda Salah !!\"\n",
    "elif sOperator == \"-\":\n",
    "     cekJawab = \"Anda Benar !!!\" if jawab == nilai1 - nilai2 else \"Anda Salah !!\"\n",
    "elif sOperator == \"/\":\n",
    "     cekJawab = \"Anda Benar !!!\" if jawab == nilai1 / nilai2 else \"Anda Salah !!\"\n",
    "elif sOperator == \"*\":\n",
    "     cekJawab = \"Anda Benar !!!\" if jawab == nilai1 * nilai2 else \"Anda Salah !!\"\n",
    "print(cekJawab)\n"
   ]
  },
  {
   "cell_type": "code",
   "execution_count": null,
   "id": "3f9ca39d",
   "metadata": {},
   "outputs": [
    {
     "name": "stdout",
     "output_type": "stream",
     "text": [
      "ENG->IND(1) , IND->ENG(2)2\n",
      "Apa arti dari minum?\n"
     ]
    }
   ],
   "source": [
    "from random import choice\n",
    "kamus = [[\"makan\",\"eat\"],[\"minum\",\"drink\"],[\"membaca\",\"reading\"]]\n",
    "sKamus = choice(kamus)\n",
    "pilihan = int(input(\"ENG->IND(1) , IND->ENG(2)\"))\n",
    "if pilihan ==1:\n",
    "    print(f\"Apa arti dari {sKamus[1]}?\")\n",
    "    jawab = input (\"Isikan jawaban:\")\n",
    "    cekTranslate  = \"anda benar!!\" if jawab.lower() == sKamus[0] else \"anda salah\"\n",
    "elif pilihan ==2:\n",
    "    print(f\"Apa arti dari {sKamus[0]}?\")\n",
    "    jawab = input (\"Isikan jawaban:\")\n",
    "    cekTranslate  = \"anda benar!!\" if jawab.lower() == sKamus1 [1]else \"anda salah\"\n",
    "print(cekTranslate)"
   ]
  },
  {
   "cell_type": "code",
   "execution_count": null,
   "id": "d244d6b7",
   "metadata": {},
   "outputs": [],
   "source": []
  }
 ],
 "metadata": {
  "kernelspec": {
   "display_name": "Python 3 (ipykernel)",
   "language": "python",
   "name": "python3"
  },
  "language_info": {
   "codemirror_mode": {
    "name": "ipython",
    "version": 3
   },
   "file_extension": ".py",
   "mimetype": "text/x-python",
   "name": "python",
   "nbconvert_exporter": "python",
   "pygments_lexer": "ipython3",
   "version": "3.9.12"
  }
 },
 "nbformat": 4,
 "nbformat_minor": 5
}
